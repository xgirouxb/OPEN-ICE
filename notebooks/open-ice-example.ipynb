{
 "cells": [
  {
   "cell_type": "markdown",
   "metadata": {},
   "source": [
    "\n",
    "# Estimate the spring breakup dates of pixels in a lake of interest"
   ]
  },
  {
   "cell_type": "markdown",
   "metadata": {},
   "source": [
    "## Setup GEE and access to API"
   ]
  },
  {
   "cell_type": "code",
   "execution_count": null,
   "metadata": {},
   "outputs": [],
   "source": [
    "# Import earthengine-api\n",
    "import ee\n",
    "\n",
    "# Authenticate\n",
    "ee.Authenticate()\n",
    "\n",
    "# Initialize EE API\n",
    "ee.Initialize()"
   ]
  },
  {
   "cell_type": "markdown",
   "metadata": {
    "tags": []
   },
   "source": [
    "## Import main OPEN-ICE module"
   ]
  },
  {
   "cell_type": "code",
   "execution_count": null,
   "metadata": {
    "tags": []
   },
   "outputs": [],
   "source": [
    "# Import modules in ../openice\n",
    "import sys\n",
    "sys.path.append('../openice/')\n",
    "import breakupDetection"
   ]
  },
  {
   "cell_type": "markdown",
   "metadata": {},
   "source": [
    "## Launch OPEN-ICE algorithm "
   ]
  },
  {
   "cell_type": "markdown",
   "metadata": {},
   "source": [
    "Let's estimate the spring 2021 breakup dates for all pixels over Baker Lake "
   ]
  },
  {
   "cell_type": "code",
   "execution_count": null,
   "metadata": {},
   "outputs": [],
   "source": [
    "# Select HydroLAKES geometry of interest, here Baker Lake\n",
    "bakerLakeGeometry = ee.Feature(ee.FeatureCollection('users/xgirouxb/HydroLAKES_v10')\\\n",
    "                               .filterMetadata('Hylak_id', 'equals', 25)\\\n",
    "                               .first())\\\n",
    "                               .geometry()\n",
    "\n",
    "# Export data directory\n",
    "yourProjDirectory = 'users/yourUsername/bakerLakeExample'\n",
    "\n",
    "# Launch OPEN-ICE algorithm\n",
    "breakupDetection.breakupDetection(\n",
    "    tile = bakerLakeGeometry,\n",
    "    year = 2021,\n",
    "    expDirectory = yourProjDirectory,\n",
    "    expFilename = 'bakerLakeSpring2021',\n",
    "    cloudThresh = 95,\n",
    "    globalWater = True,\n",
    "    logFilter = True\n",
    ")"
   ]
  }
 ],
 "metadata": {
  "kernelspec": {
   "display_name": "Python 3 (ipykernel)",
   "language": "python",
   "name": "python3"
  },
  "language_info": {
   "codemirror_mode": {
    "name": "ipython",
    "version": 3
   },
   "file_extension": ".py",
   "mimetype": "text/x-python",
   "name": "python",
   "nbconvert_exporter": "python",
   "pygments_lexer": "ipython3",
   "version": "3.9.10"
  }
 },
 "nbformat": 4,
 "nbformat_minor": 4
}
